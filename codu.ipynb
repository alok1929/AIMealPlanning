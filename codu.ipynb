{
 "cells": [
  {
   "cell_type": "code",
   "execution_count": 2,
   "metadata": {},
   "outputs": [
    {
     "name": "stdout",
     "output_type": "stream",
     "text": [
      "Defaulting to user installation because normal site-packages is not writeable\n",
      "Requirement already satisfied: numpy in /usr/lib/python3/dist-packages (1.21.5)\n",
      "Requirement already satisfied: pandas in /home/alokie/.local/lib/python3.10/site-packages (1.5.2)\n",
      "Requirement already satisfied: python-dateutil>=2.8.1 in /home/alokie/.local/lib/python3.10/site-packages (from pandas) (2.8.2)\n",
      "Requirement already satisfied: pytz>=2020.1 in /usr/lib/python3/dist-packages (from pandas) (2022.1)\n",
      "Requirement already satisfied: six>=1.5 in /usr/lib/python3/dist-packages (from python-dateutil>=2.8.1->pandas) (1.16.0)\n"
     ]
    }
   ],
   "source": [
    "!pip3 install numpy pandas\n"
   ]
  },
  {
   "cell_type": "code",
   "execution_count": 21,
   "metadata": {},
   "outputs": [],
   "source": [
    "import numpy as np\n",
    "import pandas as pd\n",
    "from sklearn.model_selection import train_test_split\n",
    "\n",
    "df=pd.read_csv('All_Diets.csv')\n",
    "df['TotalCalories'] = (df['Protein(g)'] * 4) + (df['Carbs(g)'] * 4) + (df['Fat(g)'] * 9)\n",
    "df = df[df['Diet_type'] != 'vegan']\n",
    "df = df.dropna(subset=['Diet_type'])\n",
    "\n",
    "\n",
    "X = df[['Diet_type', 'Recipe_name', 'Cuisine_type']]\n",
    "y = df[['Protein(g)', 'Carbs(g)', 'Fat(g)']]\n",
    "\n",
    "X_train, X_test, y_train, y_test = train_test_split(X, y, test_size=0.25, random_state=42)\n",
    "\n",
    "print(X,y)\n",
    "\n",
    "def calculate_calories(protein, carbs, fat):\n",
    "  \"\"\"Calculates the total calories of a meal.\n",
    "\n",
    "  Args:\n",
    "    protein: The protein content of the meal in grams.\n",
    "    carbs: The carbohydrate content of the meal in grams.\n",
    "    fat: The fat content of the meal in grams.\n",
    "\n",
    "  Returns:\n",
    "    The total calories of the meal in kilocalories.\n",
    "  \"\"\"\n",
    "\n",
    "  calories_from_protein = protein * 4\n",
    "  calories_from_carbs = carbs * 4\n",
    "  calories_from_fat = fat * 9\n",
    "\n",
    "  total_calories = calories_from_protein + calories_from_carbs + calories_from_fat\n",
    "  \n",
    "  \n",
    "  return total_calories\n",
    "\n",
    "\n",
    "def generate_three_meal_plan(daily_protein_intake, daily_calorie_intake):\n",
    "    \"\"\"Generates a three-meal plan based on a daily protein and calorie intake.\n",
    "\n",
    "    Args:\n",
    "      daily_protein_intake: The daily protein intake in grams.\n",
    "      daily_calorie_intake: The daily calorie intake in kilocalories.\n",
    "\n",
    "    Returns:\n",
    "      A list of three meals, each representado as a tuple of (recipe_name, cuisine_type, protein, carbs, fat).\n",
    "    \"\"\"\n",
    "\n",
    "    # Create a list of all possible meal combinations.\n",
    "    all_meal_combinations = []\n",
    "    for i in range(len(X_train)):\n",
    "        all_meal_combinations.append(\n",
    "            (X_train.iloc[i, 1], X_train.iloc[i, 2], y_train.iloc[i, 0], y_train.iloc[i, 1], y_train.iloc[i, 2]))\n",
    "\n",
    "    # Filter the list of meal combinations to only include those that meet the daily protein and calorie intake.\n",
    "    filtered_meal_combinations = []\n",
    "    for meal_combination in all_meal_combinations:\n",
    "        total_calories = calculate_calories(\n",
    "            meal_combination[2], meal_combination[3], meal_combination[4])\n",
    "        if total_calories <= daily_calorie_intake and meal_combination[2] >= daily_protein_intake:\n",
    "            filtered_meal_combinations.append(meal_combination)\n",
    "\n",
    "    # Select three random meals from the filtered list of meal combinations.\n",
    "    three_meals = []\n",
    "    for i in range(3):\n",
    "        random_index = np.random.randint(0, len(filtered_meal_combinations))\n",
    "        three_meals.append(filtered_meal_combinations[random_index])\n",
    "\n",
    "    return three_meals\n",
    "from sklearn.linear_model import LinearRegression\n",
    "\n",
    "model = LinearRegression()\n",
    "model.fit(X_train, y_train)\n"
   ]
  }
 ],
 "metadata": {
  "kernelspec": {
   "display_name": "Python 3",
   "language": "python",
   "name": "python3"
  },
  "language_info": {
   "codemirror_mode": {
    "name": "ipython",
    "version": 3
   },
   "file_extension": ".py",
   "mimetype": "text/x-python",
   "name": "python",
   "nbconvert_exporter": "python",
   "pygments_lexer": "ipython3",
   "version": "3.10.6"
  },
  "orig_nbformat": 4
 },
 "nbformat": 4,
 "nbformat_minor": 2
}
